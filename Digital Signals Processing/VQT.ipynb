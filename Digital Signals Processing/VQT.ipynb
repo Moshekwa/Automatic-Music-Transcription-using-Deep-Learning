{
 "cells": [
  {
   "cell_type": "code",
   "execution_count": 8,
   "metadata": {},
   "outputs": [],
   "source": [
    "## Importing Python Script\n",
    "import sf"
   ]
  },
  {
   "cell_type": "code",
   "execution_count": 68,
   "metadata": {},
   "outputs": [
    {
     "name": "stdout",
     "output_type": "stream",
     "text": [
      "[[-0.52951103]\n",
      " [ 0.00482286]\n",
      " [-0.97724789]\n",
      " [-0.64875984]\n",
      " [-0.56905967]\n",
      " [-0.00657563]\n",
      " [ 0.05526536]]\n"
     ]
    }
   ],
   "source": [
    "sf.AMT()"
   ]
  },
  {
   "cell_type": "code",
   "execution_count": 70,
   "metadata": {},
   "outputs": [
    {
     "name": "stdout",
     "output_type": "stream",
     "text": [
      "[[-0.52951103]\n",
      " [ 0.00482286]\n",
      " [-0.97724789]\n",
      " [-0.64875984]\n",
      " [-0.56905967]\n",
      " [-0.00657563]\n",
      " [ 0.05526536]]\n",
      "[[-0.52951103]\n",
      " [ 0.00482286]\n",
      " [-0.97724789]\n",
      " [-0.64875984]\n",
      " [-0.56905967]\n",
      " [-0.00657563]\n",
      " [ 0.05526536]]\n"
     ]
    },
    {
     "data": {
      "image/png": "[encoded data removed]",
      "text/plain": [
       "<Figure size 432x288 with 1 Axes>"
      ]
     },
     "metadata": {
      "needs_background": "light"
     },
     "output_type": "display_data"
    }
   ],
   "source": [
    "import imp\n",
    "imp.reload(sf) # To reload the module\n",
    "\n",
    "sf.AMT() # Compute the VQT"
   ]
  },
  {
   "cell_type": "code",
   "execution_count": null,
   "metadata": {},
   "outputs": [],
   "source": []
  },
  {
   "cell_type": "code",
   "execution_count": null,
   "metadata": {},
   "outputs": [],
   "source": []
  }
 ],
 "metadata": {
  "kernelspec": {
   "display_name": "Python 3",
   "language": "python",
   "name": "python3"
  },
  "language_info": {
   "codemirror_mode": {
    "name": "ipython",
    "version": 3
   },
   "file_extension": ".py",
   "mimetype": "text/x-python",
   "name": "python",
   "nbconvert_exporter": "python",
   "pygments_lexer": "ipython3",
   "version": "3.8.3"
  }
 },
 "nbformat": 4,
 "nbformat_minor": 4
}
