{
 "cells": [
  {
   "cell_type": "code",
   "execution_count": 2,
   "metadata": {},
   "outputs": [
    {
     "name": "stdout",
     "output_type": "stream",
     "text": [
      "List of datasets on the file: \n",
      " ['VQT_audio_frames']\n"
     ]
    }
   ],
   "source": [
    "import extract "
   ]
  },
  {
   "cell_type": "code",
   "execution_count": 3,
   "metadata": {
    "scrolled": false
   },
   "outputs": [
    {
     "name": "stdout",
     "output_type": "stream",
     "text": [
      "List of datasets on the file: \n",
      " ['VQT_audio_frames']\n",
      "Shape of the VQT_audio_frames dataset: \n",
      " (625, 128, 7, 1)\n"
     ]
    },
    {
     "data": {
      "text/plain": [
       "<module 'extract' from 'C:\\\\Users\\\\Mateu Asus\\\\Documents\\\\YOS4\\\\Lab Project\\\\Code\\\\lab-proj-2020\\\\Digital Signals Processing\\\\extract.py'>"
      ]
     },
     "execution_count": 3,
     "metadata": {},
     "output_type": "execute_result"
    }
   ],
   "source": [
    "import imp\n",
    "imp.reload(extract) # To reload the module"
   ]
  },
  {
   "cell_type": "code",
   "execution_count": null,
   "metadata": {},
   "outputs": [],
   "source": []
  }
 ],
 "metadata": {
  "kernelspec": {
   "display_name": "Python 3",
   "language": "python",
   "name": "python3"
  },
  "language_info": {
   "codemirror_mode": {
    "name": "ipython",
    "version": 3
   },
   "file_extension": ".py",
   "mimetype": "text/x-python",
   "name": "python",
   "nbconvert_exporter": "python",
   "pygments_lexer": "ipython3",
   "version": "3.8.3"
  }
 },
 "nbformat": 4,
 "nbformat_minor": 4
}
